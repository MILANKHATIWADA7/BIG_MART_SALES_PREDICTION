{
 "cells": [
  {
   "cell_type": "code",
   "execution_count": 114,
   "id": "5ead1a31",
   "metadata": {},
   "outputs": [],
   "source": [
    "import pandas as pd\n",
    "import numpy as np\n",
    "%matplotlib inline\n",
    "import matplotlib.pyplot as plt\n",
    "import seaborn as sns"
   ]
  },
  {
   "cell_type": "markdown",
   "id": "4987c977",
   "metadata": {},
   "source": [
    "# Loading DataSet"
   ]
  },
  {
   "cell_type": "code",
   "execution_count": 115,
   "id": "ff38d4e7",
   "metadata": {},
   "outputs": [],
   "source": [
    "#Load Dataset\n",
    "df = pd.read_csv('augmented_final8.csv')"
   ]
  },
  {
   "cell_type": "code",
   "execution_count": 116,
   "id": "7cd413be",
   "metadata": {
    "scrolled": false
   },
   "outputs": [
    {
     "data": {
      "text/html": [
       "<div>\n",
       "<style scoped>\n",
       "    .dataframe tbody tr th:only-of-type {\n",
       "        vertical-align: middle;\n",
       "    }\n",
       "\n",
       "    .dataframe tbody tr th {\n",
       "        vertical-align: top;\n",
       "    }\n",
       "\n",
       "    .dataframe thead th {\n",
       "        text-align: right;\n",
       "    }\n",
       "</style>\n",
       "<table border=\"1\" class=\"dataframe\">\n",
       "  <thead>\n",
       "    <tr style=\"text-align: right;\">\n",
       "      <th></th>\n",
       "      <th>Item_Identifier</th>\n",
       "      <th>Item_Weight</th>\n",
       "      <th>Item_Fat_Content</th>\n",
       "      <th>Item_Visibility</th>\n",
       "      <th>Item_Type</th>\n",
       "      <th>Item_MRP</th>\n",
       "      <th>Outlet_Identifier</th>\n",
       "      <th>Outlet_Establishment_Year</th>\n",
       "      <th>Outlet_Size</th>\n",
       "      <th>Outlet_Location_Type</th>\n",
       "      <th>Outlet_Type</th>\n",
       "      <th>Item_Outlet_Sales</th>\n",
       "    </tr>\n",
       "  </thead>\n",
       "  <tbody>\n",
       "    <tr>\n",
       "      <th>0</th>\n",
       "      <td>FDF57</td>\n",
       "      <td>14.502087</td>\n",
       "      <td>Regular</td>\n",
       "      <td>0.001573</td>\n",
       "      <td>Fruits and Vegetables</td>\n",
       "      <td>169.620543</td>\n",
       "      <td>OUT035</td>\n",
       "      <td>2004</td>\n",
       "      <td>Small</td>\n",
       "      <td>Tier 2</td>\n",
       "      <td>Supermarket Type1</td>\n",
       "      <td>2045.359616</td>\n",
       "    </tr>\n",
       "    <tr>\n",
       "      <th>1</th>\n",
       "      <td>FDE56</td>\n",
       "      <td>12.857648</td>\n",
       "      <td>Regular</td>\n",
       "      <td>0.163214</td>\n",
       "      <td>Fruits and Vegetables</td>\n",
       "      <td>62.430905</td>\n",
       "      <td>OUT027</td>\n",
       "      <td>1985</td>\n",
       "      <td>Medium</td>\n",
       "      <td>Tier 3</td>\n",
       "      <td>Supermarket Type3</td>\n",
       "      <td>2291.019932</td>\n",
       "    </tr>\n",
       "    <tr>\n",
       "      <th>2</th>\n",
       "      <td>FDN16</td>\n",
       "      <td>12.604193</td>\n",
       "      <td>Regular</td>\n",
       "      <td>0.056235</td>\n",
       "      <td>Frozen Foods</td>\n",
       "      <td>105.108784</td>\n",
       "      <td>OUT045</td>\n",
       "      <td>2002</td>\n",
       "      <td>Medium</td>\n",
       "      <td>Tier 2</td>\n",
       "      <td>Supermarket Type1</td>\n",
       "      <td>1444.766236</td>\n",
       "    </tr>\n",
       "    <tr>\n",
       "      <th>3</th>\n",
       "      <td>FDH40</td>\n",
       "      <td>11.600000</td>\n",
       "      <td>Regular</td>\n",
       "      <td>0.078930</td>\n",
       "      <td>Frozen Foods</td>\n",
       "      <td>79.927600</td>\n",
       "      <td>OUT046</td>\n",
       "      <td>1997</td>\n",
       "      <td>Small</td>\n",
       "      <td>Tier 1</td>\n",
       "      <td>Supermarket Type1</td>\n",
       "      <td>1137.186400</td>\n",
       "    </tr>\n",
       "    <tr>\n",
       "      <th>4</th>\n",
       "      <td>FDP39</td>\n",
       "      <td>12.622016</td>\n",
       "      <td>Low Fat</td>\n",
       "      <td>0.063577</td>\n",
       "      <td>Meat</td>\n",
       "      <td>51.826634</td>\n",
       "      <td>OUT049</td>\n",
       "      <td>1999</td>\n",
       "      <td>Medium</td>\n",
       "      <td>Tier 1</td>\n",
       "      <td>Supermarket Type1</td>\n",
       "      <td>1090.590364</td>\n",
       "    </tr>\n",
       "    <tr>\n",
       "      <th>...</th>\n",
       "      <td>...</td>\n",
       "      <td>...</td>\n",
       "      <td>...</td>\n",
       "      <td>...</td>\n",
       "      <td>...</td>\n",
       "      <td>...</td>\n",
       "      <td>...</td>\n",
       "      <td>...</td>\n",
       "      <td>...</td>\n",
       "      <td>...</td>\n",
       "      <td>...</td>\n",
       "      <td>...</td>\n",
       "    </tr>\n",
       "    <tr>\n",
       "      <th>17784</th>\n",
       "      <td>FDH12</td>\n",
       "      <td>12.857648</td>\n",
       "      <td>Low Fat</td>\n",
       "      <td>0.149739</td>\n",
       "      <td>Baking Goods</td>\n",
       "      <td>107.118585</td>\n",
       "      <td>OUT019</td>\n",
       "      <td>1985</td>\n",
       "      <td>Small</td>\n",
       "      <td>Tier 1</td>\n",
       "      <td>Grocery Store</td>\n",
       "      <td>319.577236</td>\n",
       "    </tr>\n",
       "    <tr>\n",
       "      <th>17785</th>\n",
       "      <td>FDN31</td>\n",
       "      <td>11.499258</td>\n",
       "      <td>Low Fat</td>\n",
       "      <td>0.079900</td>\n",
       "      <td>Fruits and Vegetables</td>\n",
       "      <td>187.937241</td>\n",
       "      <td>OUT045</td>\n",
       "      <td>2002</td>\n",
       "      <td>Medium</td>\n",
       "      <td>Tier 2</td>\n",
       "      <td>Supermarket Type1</td>\n",
       "      <td>2656.552542</td>\n",
       "    </tr>\n",
       "    <tr>\n",
       "      <th>17786</th>\n",
       "      <td>DRL23</td>\n",
       "      <td>18.342723</td>\n",
       "      <td>Low Fat</td>\n",
       "      <td>0.033119</td>\n",
       "      <td>Hard Drinks</td>\n",
       "      <td>106.688519</td>\n",
       "      <td>OUT045</td>\n",
       "      <td>2002</td>\n",
       "      <td>Medium</td>\n",
       "      <td>Tier 2</td>\n",
       "      <td>Supermarket Type1</td>\n",
       "      <td>1393.502979</td>\n",
       "    </tr>\n",
       "    <tr>\n",
       "      <th>17787</th>\n",
       "      <td>NCM55</td>\n",
       "      <td>15.600000</td>\n",
       "      <td>Low Fat</td>\n",
       "      <td>0.066830</td>\n",
       "      <td>Others</td>\n",
       "      <td>185.592400</td>\n",
       "      <td>OUT049</td>\n",
       "      <td>1999</td>\n",
       "      <td>Medium</td>\n",
       "      <td>Tier 1</td>\n",
       "      <td>Supermarket Type1</td>\n",
       "      <td>3146.570800</td>\n",
       "    </tr>\n",
       "    <tr>\n",
       "      <th>17788</th>\n",
       "      <td>FDO40</td>\n",
       "      <td>12.857648</td>\n",
       "      <td>Low Fat</td>\n",
       "      <td>0.032470</td>\n",
       "      <td>Frozen Foods</td>\n",
       "      <td>148.939200</td>\n",
       "      <td>OUT027</td>\n",
       "      <td>1985</td>\n",
       "      <td>Medium</td>\n",
       "      <td>Tier 3</td>\n",
       "      <td>Supermarket Type3</td>\n",
       "      <td>3728.480000</td>\n",
       "    </tr>\n",
       "  </tbody>\n",
       "</table>\n",
       "<p>17789 rows × 12 columns</p>\n",
       "</div>"
      ],
      "text/plain": [
       "      Item_Identifier  Item_Weight Item_Fat_Content  Item_Visibility  \\\n",
       "0               FDF57    14.502087          Regular         0.001573   \n",
       "1               FDE56    12.857648          Regular         0.163214   \n",
       "2               FDN16    12.604193          Regular         0.056235   \n",
       "3               FDH40    11.600000          Regular         0.078930   \n",
       "4               FDP39    12.622016          Low Fat         0.063577   \n",
       "...               ...          ...              ...              ...   \n",
       "17784           FDH12    12.857648          Low Fat         0.149739   \n",
       "17785           FDN31    11.499258          Low Fat         0.079900   \n",
       "17786           DRL23    18.342723          Low Fat         0.033119   \n",
       "17787           NCM55    15.600000          Low Fat         0.066830   \n",
       "17788           FDO40    12.857648          Low Fat         0.032470   \n",
       "\n",
       "                   Item_Type    Item_MRP Outlet_Identifier  \\\n",
       "0      Fruits and Vegetables  169.620543            OUT035   \n",
       "1      Fruits and Vegetables   62.430905            OUT027   \n",
       "2               Frozen Foods  105.108784            OUT045   \n",
       "3               Frozen Foods   79.927600            OUT046   \n",
       "4                       Meat   51.826634            OUT049   \n",
       "...                      ...         ...               ...   \n",
       "17784           Baking Goods  107.118585            OUT019   \n",
       "17785  Fruits and Vegetables  187.937241            OUT045   \n",
       "17786            Hard Drinks  106.688519            OUT045   \n",
       "17787                 Others  185.592400            OUT049   \n",
       "17788           Frozen Foods  148.939200            OUT027   \n",
       "\n",
       "       Outlet_Establishment_Year Outlet_Size Outlet_Location_Type  \\\n",
       "0                           2004       Small               Tier 2   \n",
       "1                           1985      Medium               Tier 3   \n",
       "2                           2002      Medium               Tier 2   \n",
       "3                           1997       Small               Tier 1   \n",
       "4                           1999      Medium               Tier 1   \n",
       "...                          ...         ...                  ...   \n",
       "17784                       1985       Small               Tier 1   \n",
       "17785                       2002      Medium               Tier 2   \n",
       "17786                       2002      Medium               Tier 2   \n",
       "17787                       1999      Medium               Tier 1   \n",
       "17788                       1985      Medium               Tier 3   \n",
       "\n",
       "             Outlet_Type  Item_Outlet_Sales  \n",
       "0      Supermarket Type1        2045.359616  \n",
       "1      Supermarket Type3        2291.019932  \n",
       "2      Supermarket Type1        1444.766236  \n",
       "3      Supermarket Type1        1137.186400  \n",
       "4      Supermarket Type1        1090.590364  \n",
       "...                  ...                ...  \n",
       "17784      Grocery Store         319.577236  \n",
       "17785  Supermarket Type1        2656.552542  \n",
       "17786  Supermarket Type1        1393.502979  \n",
       "17787  Supermarket Type1        3146.570800  \n",
       "17788  Supermarket Type3        3728.480000  \n",
       "\n",
       "[17789 rows x 12 columns]"
      ]
     },
     "execution_count": 116,
     "metadata": {},
     "output_type": "execute_result"
    }
   ],
   "source": [
    "df"
   ]
  },
  {
   "cell_type": "markdown",
   "id": "7f96618c",
   "metadata": {},
   "source": [
    "#Visualizing all the parameters detail"
   ]
  },
  {
   "cell_type": "code",
   "execution_count": 117,
   "id": "de63db6a",
   "metadata": {
    "scrolled": false
   },
   "outputs": [
    {
     "data": {
      "text/plain": [
       "array(['Fruits and Vegetables', 'Frozen Foods', 'Meat',\n",
       "       'Health and Hygiene', 'Dairy', 'Baking Goods', 'Household',\n",
       "       'Snack Foods', 'Soft Drinks', 'Canned', 'Starchy Foods',\n",
       "       'Breakfast', 'Breads', 'Hard Drinks', 'Seafood', 'Others'],\n",
       "      dtype=object)"
      ]
     },
     "execution_count": 117,
     "metadata": {},
     "output_type": "execute_result"
    }
   ],
   "source": [
    "df['Item_Type'].unique()"
   ]
  },
  {
   "cell_type": "code",
   "execution_count": 118,
   "id": "c0b35e4c",
   "metadata": {},
   "outputs": [
    {
     "data": {
      "text/plain": [
       "array(['Regular', 'Low Fat', 'LF', 'reg', 'low fat'], dtype=object)"
      ]
     },
     "execution_count": 118,
     "metadata": {},
     "output_type": "execute_result"
    }
   ],
   "source": [
    "df['Item_Fat_Content'].unique()"
   ]
  },
  {
   "cell_type": "code",
   "execution_count": 119,
   "id": "0b2395b3",
   "metadata": {},
   "outputs": [
    {
     "data": {
      "text/plain": [
       "array(['Small', 'Medium', 'High'], dtype=object)"
      ]
     },
     "execution_count": 119,
     "metadata": {},
     "output_type": "execute_result"
    }
   ],
   "source": [
    "df['Outlet_Size'].unique()"
   ]
  },
  {
   "cell_type": "code",
   "execution_count": 120,
   "id": "7bc83166",
   "metadata": {},
   "outputs": [
    {
     "data": {
      "text/plain": [
       "array(['Tier 2', 'Tier 3', 'Tier 1'], dtype=object)"
      ]
     },
     "execution_count": 120,
     "metadata": {},
     "output_type": "execute_result"
    }
   ],
   "source": [
    "df['Outlet_Location_Type'].unique()"
   ]
  },
  {
   "cell_type": "code",
   "execution_count": 121,
   "id": "47fd5ed8",
   "metadata": {},
   "outputs": [
    {
     "data": {
      "text/plain": [
       "array(['Supermarket Type1', 'Supermarket Type3', 'Supermarket Type2',\n",
       "       'Grocery Store'], dtype=object)"
      ]
     },
     "execution_count": 121,
     "metadata": {},
     "output_type": "execute_result"
    }
   ],
   "source": [
    "df['Outlet_Type'].unique()"
   ]
  },
  {
   "cell_type": "code",
   "execution_count": null,
   "id": "a2eb8deb",
   "metadata": {},
   "outputs": [],
   "source": []
  },
  {
   "cell_type": "markdown",
   "id": "70fd0f55",
   "metadata": {},
   "source": [
    "# Data Cleaning"
   ]
  },
  {
   "cell_type": "markdown",
   "id": "aae8a1c8",
   "metadata": {},
   "source": [
    "Data Cleaning done on other file"
   ]
  },
  {
   "cell_type": "code",
   "execution_count": 170,
   "id": "472bc414",
   "metadata": {},
   "outputs": [
    {
     "data": {
      "text/html": [
       "<div>\n",
       "<style scoped>\n",
       "    .dataframe tbody tr th:only-of-type {\n",
       "        vertical-align: middle;\n",
       "    }\n",
       "\n",
       "    .dataframe tbody tr th {\n",
       "        vertical-align: top;\n",
       "    }\n",
       "\n",
       "    .dataframe thead th {\n",
       "        text-align: right;\n",
       "    }\n",
       "</style>\n",
       "<table border=\"1\" class=\"dataframe\">\n",
       "  <thead>\n",
       "    <tr style=\"text-align: right;\">\n",
       "      <th></th>\n",
       "      <th>Item_Weight</th>\n",
       "      <th>Item_Fat_Content</th>\n",
       "      <th>Item_Visibility</th>\n",
       "      <th>Item_Type</th>\n",
       "      <th>Item_MRP</th>\n",
       "      <th>Outlet_Establishment_Year</th>\n",
       "      <th>Outlet_Size</th>\n",
       "      <th>Outlet_Location_Type</th>\n",
       "      <th>Outlet_Type</th>\n",
       "      <th>Item_Outlet_Sales</th>\n",
       "    </tr>\n",
       "  </thead>\n",
       "  <tbody>\n",
       "    <tr>\n",
       "      <th>0</th>\n",
       "      <td>14.502087</td>\n",
       "      <td>2</td>\n",
       "      <td>0.001573</td>\n",
       "      <td>6</td>\n",
       "      <td>169.620543</td>\n",
       "      <td>2004</td>\n",
       "      <td>2</td>\n",
       "      <td>1</td>\n",
       "      <td>1</td>\n",
       "      <td>2045.359616</td>\n",
       "    </tr>\n",
       "    <tr>\n",
       "      <th>1</th>\n",
       "      <td>12.857648</td>\n",
       "      <td>2</td>\n",
       "      <td>0.163214</td>\n",
       "      <td>6</td>\n",
       "      <td>62.430905</td>\n",
       "      <td>1985</td>\n",
       "      <td>1</td>\n",
       "      <td>2</td>\n",
       "      <td>3</td>\n",
       "      <td>2291.019932</td>\n",
       "    </tr>\n",
       "    <tr>\n",
       "      <th>2</th>\n",
       "      <td>12.604193</td>\n",
       "      <td>2</td>\n",
       "      <td>0.056235</td>\n",
       "      <td>5</td>\n",
       "      <td>105.108784</td>\n",
       "      <td>2002</td>\n",
       "      <td>1</td>\n",
       "      <td>1</td>\n",
       "      <td>1</td>\n",
       "      <td>1444.766236</td>\n",
       "    </tr>\n",
       "    <tr>\n",
       "      <th>3</th>\n",
       "      <td>11.600000</td>\n",
       "      <td>2</td>\n",
       "      <td>0.078930</td>\n",
       "      <td>5</td>\n",
       "      <td>79.927600</td>\n",
       "      <td>1997</td>\n",
       "      <td>2</td>\n",
       "      <td>0</td>\n",
       "      <td>1</td>\n",
       "      <td>1137.186400</td>\n",
       "    </tr>\n",
       "    <tr>\n",
       "      <th>4</th>\n",
       "      <td>12.622016</td>\n",
       "      <td>1</td>\n",
       "      <td>0.063577</td>\n",
       "      <td>10</td>\n",
       "      <td>51.826634</td>\n",
       "      <td>1999</td>\n",
       "      <td>1</td>\n",
       "      <td>0</td>\n",
       "      <td>1</td>\n",
       "      <td>1090.590364</td>\n",
       "    </tr>\n",
       "  </tbody>\n",
       "</table>\n",
       "</div>"
      ],
      "text/plain": [
       "   Item_Weight  Item_Fat_Content  Item_Visibility  Item_Type    Item_MRP  \\\n",
       "0    14.502087                 2         0.001573          6  169.620543   \n",
       "1    12.857648                 2         0.163214          6   62.430905   \n",
       "2    12.604193                 2         0.056235          5  105.108784   \n",
       "3    11.600000                 2         0.078930          5   79.927600   \n",
       "4    12.622016                 1         0.063577         10   51.826634   \n",
       "\n",
       "   Outlet_Establishment_Year  Outlet_Size  Outlet_Location_Type  Outlet_Type  \\\n",
       "0                       2004            2                     1            1   \n",
       "1                       1985            1                     2            3   \n",
       "2                       2002            1                     1            1   \n",
       "3                       1997            2                     0            1   \n",
       "4                       1999            1                     0            1   \n",
       "\n",
       "   Item_Outlet_Sales  \n",
       "0        2045.359616  \n",
       "1        2291.019932  \n",
       "2        1444.766236  \n",
       "3        1137.186400  \n",
       "4        1090.590364  "
      ]
     },
     "execution_count": 170,
     "metadata": {},
     "output_type": "execute_result"
    }
   ],
   "source": [
    "#cleaned Data\n",
    "df.head()"
   ]
  },
  {
   "cell_type": "code",
   "execution_count": 123,
   "id": "af2c4d2e",
   "metadata": {},
   "outputs": [
    {
     "data": {
      "text/plain": [
       "Item_Identifier              0\n",
       "Item_Weight                  0\n",
       "Item_Fat_Content             0\n",
       "Item_Visibility              0\n",
       "Item_Type                    0\n",
       "Item_MRP                     0\n",
       "Outlet_Identifier            0\n",
       "Outlet_Establishment_Year    0\n",
       "Outlet_Size                  0\n",
       "Outlet_Location_Type         0\n",
       "Outlet_Type                  0\n",
       "Item_Outlet_Sales            0\n",
       "dtype: int64"
      ]
     },
     "execution_count": 123,
     "metadata": {},
     "output_type": "execute_result"
    }
   ],
   "source": [
    "#As we can see the data is cleaned\n",
    "df.isna().sum()"
   ]
  },
  {
   "cell_type": "markdown",
   "id": "262b72e3",
   "metadata": {},
   "source": [
    "Droping columns which are not of general use"
   ]
  },
  {
   "cell_type": "code",
   "execution_count": 124,
   "id": "52a6b3f8",
   "metadata": {},
   "outputs": [],
   "source": [
    "#droping columns\n",
    "df = df.drop(['Item_Identifier','Outlet_Identifier'], axis=1)"
   ]
  },
  {
   "cell_type": "code",
   "execution_count": 125,
   "id": "fb334e33",
   "metadata": {},
   "outputs": [
    {
     "data": {
      "text/html": [
       "<div>\n",
       "<style scoped>\n",
       "    .dataframe tbody tr th:only-of-type {\n",
       "        vertical-align: middle;\n",
       "    }\n",
       "\n",
       "    .dataframe tbody tr th {\n",
       "        vertical-align: top;\n",
       "    }\n",
       "\n",
       "    .dataframe thead th {\n",
       "        text-align: right;\n",
       "    }\n",
       "</style>\n",
       "<table border=\"1\" class=\"dataframe\">\n",
       "  <thead>\n",
       "    <tr style=\"text-align: right;\">\n",
       "      <th></th>\n",
       "      <th>Item_Weight</th>\n",
       "      <th>Item_Fat_Content</th>\n",
       "      <th>Item_Visibility</th>\n",
       "      <th>Item_Type</th>\n",
       "      <th>Item_MRP</th>\n",
       "      <th>Outlet_Establishment_Year</th>\n",
       "      <th>Outlet_Size</th>\n",
       "      <th>Outlet_Location_Type</th>\n",
       "      <th>Outlet_Type</th>\n",
       "      <th>Item_Outlet_Sales</th>\n",
       "    </tr>\n",
       "  </thead>\n",
       "  <tbody>\n",
       "    <tr>\n",
       "      <th>0</th>\n",
       "      <td>14.502087</td>\n",
       "      <td>Regular</td>\n",
       "      <td>0.001573</td>\n",
       "      <td>Fruits and Vegetables</td>\n",
       "      <td>169.620543</td>\n",
       "      <td>2004</td>\n",
       "      <td>Small</td>\n",
       "      <td>Tier 2</td>\n",
       "      <td>Supermarket Type1</td>\n",
       "      <td>2045.359616</td>\n",
       "    </tr>\n",
       "    <tr>\n",
       "      <th>1</th>\n",
       "      <td>12.857648</td>\n",
       "      <td>Regular</td>\n",
       "      <td>0.163214</td>\n",
       "      <td>Fruits and Vegetables</td>\n",
       "      <td>62.430905</td>\n",
       "      <td>1985</td>\n",
       "      <td>Medium</td>\n",
       "      <td>Tier 3</td>\n",
       "      <td>Supermarket Type3</td>\n",
       "      <td>2291.019932</td>\n",
       "    </tr>\n",
       "    <tr>\n",
       "      <th>2</th>\n",
       "      <td>12.604193</td>\n",
       "      <td>Regular</td>\n",
       "      <td>0.056235</td>\n",
       "      <td>Frozen Foods</td>\n",
       "      <td>105.108784</td>\n",
       "      <td>2002</td>\n",
       "      <td>Medium</td>\n",
       "      <td>Tier 2</td>\n",
       "      <td>Supermarket Type1</td>\n",
       "      <td>1444.766236</td>\n",
       "    </tr>\n",
       "    <tr>\n",
       "      <th>3</th>\n",
       "      <td>11.600000</td>\n",
       "      <td>Regular</td>\n",
       "      <td>0.078930</td>\n",
       "      <td>Frozen Foods</td>\n",
       "      <td>79.927600</td>\n",
       "      <td>1997</td>\n",
       "      <td>Small</td>\n",
       "      <td>Tier 1</td>\n",
       "      <td>Supermarket Type1</td>\n",
       "      <td>1137.186400</td>\n",
       "    </tr>\n",
       "    <tr>\n",
       "      <th>4</th>\n",
       "      <td>12.622016</td>\n",
       "      <td>Low Fat</td>\n",
       "      <td>0.063577</td>\n",
       "      <td>Meat</td>\n",
       "      <td>51.826634</td>\n",
       "      <td>1999</td>\n",
       "      <td>Medium</td>\n",
       "      <td>Tier 1</td>\n",
       "      <td>Supermarket Type1</td>\n",
       "      <td>1090.590364</td>\n",
       "    </tr>\n",
       "    <tr>\n",
       "      <th>...</th>\n",
       "      <td>...</td>\n",
       "      <td>...</td>\n",
       "      <td>...</td>\n",
       "      <td>...</td>\n",
       "      <td>...</td>\n",
       "      <td>...</td>\n",
       "      <td>...</td>\n",
       "      <td>...</td>\n",
       "      <td>...</td>\n",
       "      <td>...</td>\n",
       "    </tr>\n",
       "    <tr>\n",
       "      <th>17784</th>\n",
       "      <td>12.857648</td>\n",
       "      <td>Low Fat</td>\n",
       "      <td>0.149739</td>\n",
       "      <td>Baking Goods</td>\n",
       "      <td>107.118585</td>\n",
       "      <td>1985</td>\n",
       "      <td>Small</td>\n",
       "      <td>Tier 1</td>\n",
       "      <td>Grocery Store</td>\n",
       "      <td>319.577236</td>\n",
       "    </tr>\n",
       "    <tr>\n",
       "      <th>17785</th>\n",
       "      <td>11.499258</td>\n",
       "      <td>Low Fat</td>\n",
       "      <td>0.079900</td>\n",
       "      <td>Fruits and Vegetables</td>\n",
       "      <td>187.937241</td>\n",
       "      <td>2002</td>\n",
       "      <td>Medium</td>\n",
       "      <td>Tier 2</td>\n",
       "      <td>Supermarket Type1</td>\n",
       "      <td>2656.552542</td>\n",
       "    </tr>\n",
       "    <tr>\n",
       "      <th>17786</th>\n",
       "      <td>18.342723</td>\n",
       "      <td>Low Fat</td>\n",
       "      <td>0.033119</td>\n",
       "      <td>Hard Drinks</td>\n",
       "      <td>106.688519</td>\n",
       "      <td>2002</td>\n",
       "      <td>Medium</td>\n",
       "      <td>Tier 2</td>\n",
       "      <td>Supermarket Type1</td>\n",
       "      <td>1393.502979</td>\n",
       "    </tr>\n",
       "    <tr>\n",
       "      <th>17787</th>\n",
       "      <td>15.600000</td>\n",
       "      <td>Low Fat</td>\n",
       "      <td>0.066830</td>\n",
       "      <td>Others</td>\n",
       "      <td>185.592400</td>\n",
       "      <td>1999</td>\n",
       "      <td>Medium</td>\n",
       "      <td>Tier 1</td>\n",
       "      <td>Supermarket Type1</td>\n",
       "      <td>3146.570800</td>\n",
       "    </tr>\n",
       "    <tr>\n",
       "      <th>17788</th>\n",
       "      <td>12.857648</td>\n",
       "      <td>Low Fat</td>\n",
       "      <td>0.032470</td>\n",
       "      <td>Frozen Foods</td>\n",
       "      <td>148.939200</td>\n",
       "      <td>1985</td>\n",
       "      <td>Medium</td>\n",
       "      <td>Tier 3</td>\n",
       "      <td>Supermarket Type3</td>\n",
       "      <td>3728.480000</td>\n",
       "    </tr>\n",
       "  </tbody>\n",
       "</table>\n",
       "<p>17789 rows × 10 columns</p>\n",
       "</div>"
      ],
      "text/plain": [
       "       Item_Weight Item_Fat_Content  Item_Visibility              Item_Type  \\\n",
       "0        14.502087          Regular         0.001573  Fruits and Vegetables   \n",
       "1        12.857648          Regular         0.163214  Fruits and Vegetables   \n",
       "2        12.604193          Regular         0.056235           Frozen Foods   \n",
       "3        11.600000          Regular         0.078930           Frozen Foods   \n",
       "4        12.622016          Low Fat         0.063577                   Meat   \n",
       "...            ...              ...              ...                    ...   \n",
       "17784    12.857648          Low Fat         0.149739           Baking Goods   \n",
       "17785    11.499258          Low Fat         0.079900  Fruits and Vegetables   \n",
       "17786    18.342723          Low Fat         0.033119            Hard Drinks   \n",
       "17787    15.600000          Low Fat         0.066830                 Others   \n",
       "17788    12.857648          Low Fat         0.032470           Frozen Foods   \n",
       "\n",
       "         Item_MRP  Outlet_Establishment_Year Outlet_Size Outlet_Location_Type  \\\n",
       "0      169.620543                       2004       Small               Tier 2   \n",
       "1       62.430905                       1985      Medium               Tier 3   \n",
       "2      105.108784                       2002      Medium               Tier 2   \n",
       "3       79.927600                       1997       Small               Tier 1   \n",
       "4       51.826634                       1999      Medium               Tier 1   \n",
       "...           ...                        ...         ...                  ...   \n",
       "17784  107.118585                       1985       Small               Tier 1   \n",
       "17785  187.937241                       2002      Medium               Tier 2   \n",
       "17786  106.688519                       2002      Medium               Tier 2   \n",
       "17787  185.592400                       1999      Medium               Tier 1   \n",
       "17788  148.939200                       1985      Medium               Tier 3   \n",
       "\n",
       "             Outlet_Type  Item_Outlet_Sales  \n",
       "0      Supermarket Type1        2045.359616  \n",
       "1      Supermarket Type3        2291.019932  \n",
       "2      Supermarket Type1        1444.766236  \n",
       "3      Supermarket Type1        1137.186400  \n",
       "4      Supermarket Type1        1090.590364  \n",
       "...                  ...                ...  \n",
       "17784      Grocery Store         319.577236  \n",
       "17785  Supermarket Type1        2656.552542  \n",
       "17786  Supermarket Type1        1393.502979  \n",
       "17787  Supermarket Type1        3146.570800  \n",
       "17788  Supermarket Type3        3728.480000  \n",
       "\n",
       "[17789 rows x 10 columns]"
      ]
     },
     "execution_count": 125,
     "metadata": {},
     "output_type": "execute_result"
    }
   ],
   "source": [
    "df"
   ]
  },
  {
   "cell_type": "code",
   "execution_count": 127,
   "id": "f4414698",
   "metadata": {},
   "outputs": [
    {
     "name": "stdout",
     "output_type": "stream",
     "text": [
      "<class 'pandas.core.frame.DataFrame'>\n",
      "RangeIndex: 17789 entries, 0 to 17788\n",
      "Data columns (total 10 columns):\n",
      " #   Column                     Non-Null Count  Dtype  \n",
      "---  ------                     --------------  -----  \n",
      " 0   Item_Weight                17789 non-null  float64\n",
      " 1   Item_Fat_Content           17789 non-null  object \n",
      " 2   Item_Visibility            17789 non-null  float64\n",
      " 3   Item_Type                  17789 non-null  object \n",
      " 4   Item_MRP                   17789 non-null  float64\n",
      " 5   Outlet_Establishment_Year  17789 non-null  int64  \n",
      " 6   Outlet_Size                17789 non-null  object \n",
      " 7   Outlet_Location_Type       17789 non-null  object \n",
      " 8   Outlet_Type                17789 non-null  object \n",
      " 9   Item_Outlet_Sales          17789 non-null  float64\n",
      "dtypes: float64(4), int64(1), object(5)\n",
      "memory usage: 1.4+ MB\n"
     ]
    }
   ],
   "source": [
    "#Information on the columns of the data\n",
    "df.info()"
   ]
  },
  {
   "cell_type": "code",
   "execution_count": 128,
   "id": "817cce68",
   "metadata": {
    "scrolled": true
   },
   "outputs": [
    {
     "data": {
      "text/plain": [
       "Outlet_Size\n",
       "Medium    10396\n",
       "Small      5161\n",
       "High       2232\n",
       "Name: count, dtype: int64"
      ]
     },
     "execution_count": 128,
     "metadata": {},
     "output_type": "execute_result"
    }
   ],
   "source": [
    "df['Outlet_Size'].value_counts()"
   ]
  },
  {
   "cell_type": "markdown",
   "id": "41524020",
   "metadata": {},
   "source": [
    "# Data Visualization"
   ]
  },
  {
   "cell_type": "code",
   "execution_count": null,
   "id": "fb7716af",
   "metadata": {},
   "outputs": [],
   "source": [
    "\n",
    "\n",
    "\n",
    "\n",
    "\n",
    "\n",
    "\n",
    "\n",
    "\n",
    "\n",
    "\n",
    "\n",
    "\n",
    "\n",
    "\n",
    "\n",
    "\n",
    "\n",
    "\n",
    "\n",
    "\n",
    "\n",
    "\n",
    "\n",
    "\n",
    "\n",
    "\n",
    "\n",
    "\n",
    "\n",
    "\n",
    "\n",
    "\n",
    "\n",
    "\n",
    "\n",
    "\n",
    "\n",
    "\n",
    "\n",
    "\n",
    "\n",
    "\n",
    "\n",
    "\n",
    "\n",
    "\n",
    "\n",
    "\n",
    "\n",
    "\n",
    "\n",
    "\n",
    "\n",
    "\n",
    "\n",
    "\n",
    "\n",
    "\n",
    "\n",
    "\n",
    "\n",
    "\n",
    "\n",
    "\n",
    "\n",
    "\n",
    "\n",
    "\n",
    "\n",
    "\n",
    "\n",
    "\n",
    "\n",
    "\n",
    "\n"
   ]
  },
  {
   "cell_type": "code",
   "execution_count": null,
   "id": "7bf4e6d4",
   "metadata": {},
   "outputs": [],
   "source": []
  },
  {
   "cell_type": "code",
   "execution_count": null,
   "id": "884cc6fb",
   "metadata": {},
   "outputs": [],
   "source": []
  },
  {
   "cell_type": "code",
   "execution_count": 130,
   "id": "a8d0e542",
   "metadata": {
    "scrolled": false
   },
   "outputs": [
    {
     "data": {
      "text/plain": [
       "(array([ 0,  1,  2,  3,  4,  5,  6,  7,  8,  9, 10, 11, 12, 13, 14, 15]),\n",
       " [Text(0, 0, 'Fruits and Vegetables'),\n",
       "  Text(1, 0, 'Snack Foods'),\n",
       "  Text(2, 0, 'Household'),\n",
       "  Text(3, 0, 'Frozen Foods'),\n",
       "  Text(4, 0, 'Baking Goods'),\n",
       "  Text(5, 0, 'Dairy'),\n",
       "  Text(6, 0, 'Canned'),\n",
       "  Text(7, 0, 'Health and Hygiene'),\n",
       "  Text(8, 0, 'Soft Drinks'),\n",
       "  Text(9, 0, 'Meat'),\n",
       "  Text(10, 0, 'Breads'),\n",
       "  Text(11, 0, 'Hard Drinks'),\n",
       "  Text(12, 0, 'Others'),\n",
       "  Text(13, 0, 'Starchy Foods'),\n",
       "  Text(14, 0, 'Breakfast'),\n",
       "  Text(15, 0, 'Seafood')])"
      ]
     },
     "execution_count": 130,
     "metadata": {},
     "output_type": "execute_result"
    },
    {
     "data": {
      "image/png": "[encoded data removed]",
      "text/plain": [
       "<Figure size 600x200 with 1 Axes>"
      ]
     },
     "metadata": {},
     "output_type": "display_data"
    }
   ],
   "source": [
    "#Barplot to see the unique value count of the Item_Type\n",
    "Item_Type_counts = df['Item_Type'].value_counts()\n",
    "plt.figure(figsize=(6, 2))\n",
    "sns.barplot(x=Item_Type_counts.index, y=Item_Type_counts.values, palette=\"viridis\")\n",
    "plt.xticks(rotation=90)"
   ]
  },
  {
   "cell_type": "code",
   "execution_count": 131,
   "id": "00f028f5",
   "metadata": {},
   "outputs": [
    {
     "data": {
      "text/plain": [
       "<Axes: xlabel='Outlet_Establishment_Year'>"
      ]
     },
     "execution_count": 131,
     "metadata": {},
     "output_type": "execute_result"
    },
    {
     "data": {
      "image/png": "[encoded data removed]",
      "text/plain": [
       "<Figure size 600x200 with 1 Axes>"
      ]
     },
     "metadata": {},
     "output_type": "display_data"
    }
   ],
   "source": [
    "#Barplot to see the unique value count accourding to the year \n",
    "Outlet_Establishment_Year_counts = df['Outlet_Establishment_Year'].value_counts()\n",
    "plt.figure(figsize=(6, 2))\n",
    "sns.barplot(x=Outlet_Establishment_Year_counts.index, y=Outlet_Establishment_Year_counts.values, palette=\"viridis\")"
   ]
  },
  {
   "cell_type": "code",
   "execution_count": 132,
   "id": "edc38b70",
   "metadata": {
    "scrolled": false
   },
   "outputs": [
    {
     "data": {
      "text/plain": [
       "<Axes: xlabel='Outlet_Size'>"
      ]
     },
     "execution_count": 132,
     "metadata": {},
     "output_type": "execute_result"
    },
    {
     "data": {
      "image/png": "[encoded data removed]",
      "text/plain": [
       "<Figure size 600x200 with 1 Axes>"
      ]
     },
     "metadata": {},
     "output_type": "display_data"
    }
   ],
   "source": [
    "#Barplot to see the unique value count of Outlet_Size\n",
    "outlet_size_counts = df['Outlet_Size'].value_counts()\n",
    "plt.figure(figsize=(6, 2))\n",
    "sns.barplot(x=outlet_size_counts.index, y=outlet_size_counts.values, palette=\"viridis\")"
   ]
  },
  {
   "cell_type": "code",
   "execution_count": 133,
   "id": "00e6d4d7",
   "metadata": {
    "scrolled": false
   },
   "outputs": [
    {
     "data": {
      "text/plain": [
       "<Axes: xlabel='Outlet_Location_Type'>"
      ]
     },
     "execution_count": 133,
     "metadata": {},
     "output_type": "execute_result"
    },
    {
     "data": {
      "image/png": "[encoded data removed]",
      "text/plain": [
       "<Figure size 600x200 with 1 Axes>"
      ]
     },
     "metadata": {},
     "output_type": "display_data"
    }
   ],
   "source": [
    "#Barplot to see the unique value count of the Outlet_Location\n",
    "Outlet_Location_Type_counts = df['Outlet_Location_Type'].value_counts()\n",
    "plt.figure(figsize=(6, 2))\n",
    "sns.barplot(x=Outlet_Location_Type_counts.index, y=Outlet_Location_Type_counts.values, palette=\"viridis\")"
   ]
  },
  {
   "cell_type": "code",
   "execution_count": 134,
   "id": "c9c9a752",
   "metadata": {},
   "outputs": [
    {
     "data": {
      "text/plain": [
       "(array([0, 1, 2, 3]),\n",
       " [Text(0, 0, 'Supermarket Type1'),\n",
       "  Text(1, 0, 'Grocery Store'),\n",
       "  Text(2, 0, 'Supermarket Type3'),\n",
       "  Text(3, 0, 'Supermarket Type2')])"
      ]
     },
     "execution_count": 134,
     "metadata": {},
     "output_type": "execute_result"
    },
    {
     "data": {
      "image/png": "[encoded data removed]",
      "text/plain": [
       "<Figure size 600x200 with 1 Axes>"
      ]
     },
     "metadata": {},
     "output_type": "display_data"
    }
   ],
   "source": [
    "#Barplot to see the unique value count of the Outlet_type\n",
    "Outlet_Type_counts = df['Outlet_Type'].value_counts()\n",
    "plt.figure(figsize=(6, 2))\n",
    "sns.barplot(x=Outlet_Type_counts.index, y=Outlet_Type_counts.values, palette=\"viridis\")\n",
    "plt.xticks(rotation=90)"
   ]
  },
  {
   "cell_type": "code",
   "execution_count": 135,
   "id": "49f4f045",
   "metadata": {
    "scrolled": false
   },
   "outputs": [
    {
     "data": {
      "text/plain": [
       "(array([0, 1, 2]),\n",
       " [Text(0, 0, 'Tier 2'), Text(1, 0, 'Tier 3'), Text(2, 0, 'Tier 1')])"
      ]
     },
     "execution_count": 135,
     "metadata": {},
     "output_type": "execute_result"
    },
    {
     "data": {
      "image/png": "[encoded data removed]",
      "text/plain": [
       "<Figure size 640x480 with 1 Axes>"
      ]
     },
     "metadata": {},
     "output_type": "display_data"
    }
   ],
   "source": [
    "#Barplot to see the outlet_Location_type in comparision to the Outlet_sales\n",
    "sns.barplot(df, x='Outlet_Location_Type',y='Item_Outlet_Sales')\n",
    "plt.xticks(rotation=90)"
   ]
  },
  {
   "cell_type": "code",
   "execution_count": 136,
   "id": "9ba0cb04",
   "metadata": {},
   "outputs": [
    {
     "data": {
      "text/plain": [
       "(array([0, 1, 2, 3]),\n",
       " [Text(0, 0, 'Supermarket Type1'),\n",
       "  Text(1, 0, 'Supermarket Type3'),\n",
       "  Text(2, 0, 'Supermarket Type2'),\n",
       "  Text(3, 0, 'Grocery Store')])"
      ]
     },
     "execution_count": 136,
     "metadata": {},
     "output_type": "execute_result"
    },
    {
     "data": {
      "image/png": "[encoded data removed]",
      "text/plain": [
       "<Figure size 600x200 with 1 Axes>"
      ]
     },
     "metadata": {},
     "output_type": "display_data"
    }
   ],
   "source": [
    "\n",
    "plt.figure(figsize=(6, 2))\n",
    "sns.barplot(df, x='Outlet_Type', y='Item_Outlet_Sales')\n",
    "plt.xticks(rotation=90)\n"
   ]
  },
  {
   "cell_type": "code",
   "execution_count": 137,
   "id": "74fb82bc",
   "metadata": {},
   "outputs": [
    {
     "data": {
      "text/plain": [
       "<Axes: xlabel='Item_Outlet_Sales', ylabel='Density'>"
      ]
     },
     "execution_count": 137,
     "metadata": {},
     "output_type": "execute_result"
    },
    {
     "data": {
      "image/png": "[encoded data removed]",
      "text/plain": [
       "<Figure size 640x480 with 1 Axes>"
      ]
     },
     "metadata": {},
     "output_type": "display_data"
    }
   ],
   "source": [
    "sns.kdeplot(df, x='Item_Outlet_Sales')"
   ]
  },
  {
   "cell_type": "code",
   "execution_count": null,
   "id": "201b711d",
   "metadata": {},
   "outputs": [],
   "source": []
  },
  {
   "cell_type": "markdown",
   "id": "fa1ed164",
   "metadata": {},
   "source": [
    "Visualising the columns which are directly propertional to the Target from regplot"
   ]
  },
  {
   "cell_type": "code",
   "execution_count": 138,
   "id": "2534e31a",
   "metadata": {},
   "outputs": [
    {
     "data": {
      "text/plain": [
       "<Axes: xlabel='Item_MRP', ylabel='Item_Outlet_Sales'>"
      ]
     },
     "execution_count": 138,
     "metadata": {},
     "output_type": "execute_result"
    },
    {
     "data": {
      "image/png": "[encoded data removed]",
      "text/plain": [
       "<Figure size 800x300 with 1 Axes>"
      ]
     },
     "metadata": {},
     "output_type": "display_data"
    }
   ],
   "source": [
    "plt.figure(figsize=(8, 3))\n",
    "\n",
    "sns.regplot(data = df, x=df['Item_MRP'], y=df['Item_Outlet_Sales'])"
   ]
  },
  {
   "cell_type": "code",
   "execution_count": 140,
   "id": "e7f19098",
   "metadata": {
    "scrolled": true
   },
   "outputs": [
    {
     "data": {
      "text/plain": [
       "<Axes: xlabel='Item_Visibility', ylabel='Item_Outlet_Sales'>"
      ]
     },
     "execution_count": 140,
     "metadata": {},
     "output_type": "execute_result"
    },
    {
     "data": {
      "image/png": "[encoded data removed]",
      "text/plain": [
       "<Figure size 800x300 with 1 Axes>"
      ]
     },
     "metadata": {},
     "output_type": "display_data"
    }
   ],
   "source": [
    "plt.figure(figsize=(8, 3))\n",
    "\n",
    "sns.regplot(data = df, x=df['Item_Visibility'], y=df['Item_Outlet_Sales'])"
   ]
  },
  {
   "cell_type": "code",
   "execution_count": null,
   "id": "eccb1b0d",
   "metadata": {},
   "outputs": [],
   "source": []
  },
  {
   "cell_type": "code",
   "execution_count": null,
   "id": "5f456643",
   "metadata": {},
   "outputs": [],
   "source": []
  },
  {
   "cell_type": "code",
   "execution_count": null,
   "id": "6ae2efab",
   "metadata": {},
   "outputs": [],
   "source": []
  },
  {
   "cell_type": "markdown",
   "id": "f95eb69c",
   "metadata": {},
   "source": [
    "# Label Encoding"
   ]
  },
  {
   "cell_type": "code",
   "execution_count": 141,
   "id": "aea9bdd1",
   "metadata": {},
   "outputs": [
    {
     "data": {
      "text/plain": [
       "array(['Regular', 'Low Fat', 'LF', 'reg', 'low fat'], dtype=object)"
      ]
     },
     "execution_count": 141,
     "metadata": {},
     "output_type": "execute_result"
    }
   ],
   "source": [
    "df['Item_Fat_Content'].unique()"
   ]
  },
  {
   "cell_type": "code",
   "execution_count": 142,
   "id": "f25d3de9",
   "metadata": {},
   "outputs": [
    {
     "data": {
      "text/plain": [
       "array(['Fruits and Vegetables', 'Frozen Foods', 'Meat',\n",
       "       'Health and Hygiene', 'Dairy', 'Baking Goods', 'Household',\n",
       "       'Snack Foods', 'Soft Drinks', 'Canned', 'Starchy Foods',\n",
       "       'Breakfast', 'Breads', 'Hard Drinks', 'Seafood', 'Others'],\n",
       "      dtype=object)"
      ]
     },
     "execution_count": 142,
     "metadata": {},
     "output_type": "execute_result"
    }
   ],
   "source": [
    "df['Item_Type'].unique()"
   ]
  },
  {
   "cell_type": "code",
   "execution_count": 143,
   "id": "0337628a",
   "metadata": {},
   "outputs": [
    {
     "data": {
      "text/plain": [
       "array(['Small', 'Medium', 'High'], dtype=object)"
      ]
     },
     "execution_count": 143,
     "metadata": {},
     "output_type": "execute_result"
    }
   ],
   "source": [
    "df['Outlet_Size'].unique()"
   ]
  },
  {
   "cell_type": "code",
   "execution_count": 144,
   "id": "aaecbbb9",
   "metadata": {},
   "outputs": [
    {
     "data": {
      "text/plain": [
       "array(['Tier 2', 'Tier 3', 'Tier 1'], dtype=object)"
      ]
     },
     "execution_count": 144,
     "metadata": {},
     "output_type": "execute_result"
    }
   ],
   "source": [
    "df['Outlet_Location_Type'].unique()"
   ]
  },
  {
   "cell_type": "code",
   "execution_count": 145,
   "id": "a1ebe35a",
   "metadata": {},
   "outputs": [
    {
     "data": {
      "text/plain": [
       "array(['Supermarket Type1', 'Supermarket Type3', 'Supermarket Type2',\n",
       "       'Grocery Store'], dtype=object)"
      ]
     },
     "execution_count": 145,
     "metadata": {},
     "output_type": "execute_result"
    }
   ],
   "source": [
    "df['Outlet_Type'].unique()"
   ]
  },
  {
   "cell_type": "code",
   "execution_count": 146,
   "id": "136b10ca",
   "metadata": {},
   "outputs": [],
   "source": [
    "from sklearn.preprocessing import LabelEncoder\n",
    "le=LabelEncoder()"
   ]
  },
  {
   "cell_type": "code",
   "execution_count": 147,
   "id": "907435a7",
   "metadata": {},
   "outputs": [
    {
     "data": {
      "text/html": [
       "<div>\n",
       "<style scoped>\n",
       "    .dataframe tbody tr th:only-of-type {\n",
       "        vertical-align: middle;\n",
       "    }\n",
       "\n",
       "    .dataframe tbody tr th {\n",
       "        vertical-align: top;\n",
       "    }\n",
       "\n",
       "    .dataframe thead th {\n",
       "        text-align: right;\n",
       "    }\n",
       "</style>\n",
       "<table border=\"1\" class=\"dataframe\">\n",
       "  <thead>\n",
       "    <tr style=\"text-align: right;\">\n",
       "      <th></th>\n",
       "      <th>Item_Weight</th>\n",
       "      <th>Item_Fat_Content</th>\n",
       "      <th>Item_Visibility</th>\n",
       "      <th>Item_Type</th>\n",
       "      <th>Item_MRP</th>\n",
       "      <th>Outlet_Establishment_Year</th>\n",
       "      <th>Outlet_Size</th>\n",
       "      <th>Outlet_Location_Type</th>\n",
       "      <th>Outlet_Type</th>\n",
       "      <th>Item_Outlet_Sales</th>\n",
       "    </tr>\n",
       "  </thead>\n",
       "  <tbody>\n",
       "    <tr>\n",
       "      <th>0</th>\n",
       "      <td>14.502087</td>\n",
       "      <td>2</td>\n",
       "      <td>0.001573</td>\n",
       "      <td>6</td>\n",
       "      <td>169.620543</td>\n",
       "      <td>2004</td>\n",
       "      <td>2</td>\n",
       "      <td>1</td>\n",
       "      <td>1</td>\n",
       "      <td>2045.359616</td>\n",
       "    </tr>\n",
       "    <tr>\n",
       "      <th>1</th>\n",
       "      <td>12.857648</td>\n",
       "      <td>2</td>\n",
       "      <td>0.163214</td>\n",
       "      <td>6</td>\n",
       "      <td>62.430905</td>\n",
       "      <td>1985</td>\n",
       "      <td>1</td>\n",
       "      <td>2</td>\n",
       "      <td>3</td>\n",
       "      <td>2291.019932</td>\n",
       "    </tr>\n",
       "    <tr>\n",
       "      <th>2</th>\n",
       "      <td>12.604193</td>\n",
       "      <td>2</td>\n",
       "      <td>0.056235</td>\n",
       "      <td>5</td>\n",
       "      <td>105.108784</td>\n",
       "      <td>2002</td>\n",
       "      <td>1</td>\n",
       "      <td>1</td>\n",
       "      <td>1</td>\n",
       "      <td>1444.766236</td>\n",
       "    </tr>\n",
       "    <tr>\n",
       "      <th>3</th>\n",
       "      <td>11.600000</td>\n",
       "      <td>2</td>\n",
       "      <td>0.078930</td>\n",
       "      <td>5</td>\n",
       "      <td>79.927600</td>\n",
       "      <td>1997</td>\n",
       "      <td>2</td>\n",
       "      <td>0</td>\n",
       "      <td>1</td>\n",
       "      <td>1137.186400</td>\n",
       "    </tr>\n",
       "    <tr>\n",
       "      <th>4</th>\n",
       "      <td>12.622016</td>\n",
       "      <td>1</td>\n",
       "      <td>0.063577</td>\n",
       "      <td>10</td>\n",
       "      <td>51.826634</td>\n",
       "      <td>1999</td>\n",
       "      <td>1</td>\n",
       "      <td>0</td>\n",
       "      <td>1</td>\n",
       "      <td>1090.590364</td>\n",
       "    </tr>\n",
       "    <tr>\n",
       "      <th>...</th>\n",
       "      <td>...</td>\n",
       "      <td>...</td>\n",
       "      <td>...</td>\n",
       "      <td>...</td>\n",
       "      <td>...</td>\n",
       "      <td>...</td>\n",
       "      <td>...</td>\n",
       "      <td>...</td>\n",
       "      <td>...</td>\n",
       "      <td>...</td>\n",
       "    </tr>\n",
       "    <tr>\n",
       "      <th>17784</th>\n",
       "      <td>12.857648</td>\n",
       "      <td>1</td>\n",
       "      <td>0.149739</td>\n",
       "      <td>0</td>\n",
       "      <td>107.118585</td>\n",
       "      <td>1985</td>\n",
       "      <td>2</td>\n",
       "      <td>0</td>\n",
       "      <td>0</td>\n",
       "      <td>319.577236</td>\n",
       "    </tr>\n",
       "    <tr>\n",
       "      <th>17785</th>\n",
       "      <td>11.499258</td>\n",
       "      <td>1</td>\n",
       "      <td>0.079900</td>\n",
       "      <td>6</td>\n",
       "      <td>187.937241</td>\n",
       "      <td>2002</td>\n",
       "      <td>1</td>\n",
       "      <td>1</td>\n",
       "      <td>1</td>\n",
       "      <td>2656.552542</td>\n",
       "    </tr>\n",
       "    <tr>\n",
       "      <th>17786</th>\n",
       "      <td>18.342723</td>\n",
       "      <td>1</td>\n",
       "      <td>0.033119</td>\n",
       "      <td>7</td>\n",
       "      <td>106.688519</td>\n",
       "      <td>2002</td>\n",
       "      <td>1</td>\n",
       "      <td>1</td>\n",
       "      <td>1</td>\n",
       "      <td>1393.502979</td>\n",
       "    </tr>\n",
       "    <tr>\n",
       "      <th>17787</th>\n",
       "      <td>15.600000</td>\n",
       "      <td>1</td>\n",
       "      <td>0.066830</td>\n",
       "      <td>11</td>\n",
       "      <td>185.592400</td>\n",
       "      <td>1999</td>\n",
       "      <td>1</td>\n",
       "      <td>0</td>\n",
       "      <td>1</td>\n",
       "      <td>3146.570800</td>\n",
       "    </tr>\n",
       "    <tr>\n",
       "      <th>17788</th>\n",
       "      <td>12.857648</td>\n",
       "      <td>1</td>\n",
       "      <td>0.032470</td>\n",
       "      <td>5</td>\n",
       "      <td>148.939200</td>\n",
       "      <td>1985</td>\n",
       "      <td>1</td>\n",
       "      <td>2</td>\n",
       "      <td>3</td>\n",
       "      <td>3728.480000</td>\n",
       "    </tr>\n",
       "  </tbody>\n",
       "</table>\n",
       "<p>17789 rows × 10 columns</p>\n",
       "</div>"
      ],
      "text/plain": [
       "       Item_Weight  Item_Fat_Content  Item_Visibility  Item_Type    Item_MRP  \\\n",
       "0        14.502087                 2         0.001573          6  169.620543   \n",
       "1        12.857648                 2         0.163214          6   62.430905   \n",
       "2        12.604193                 2         0.056235          5  105.108784   \n",
       "3        11.600000                 2         0.078930          5   79.927600   \n",
       "4        12.622016                 1         0.063577         10   51.826634   \n",
       "...            ...               ...              ...        ...         ...   \n",
       "17784    12.857648                 1         0.149739          0  107.118585   \n",
       "17785    11.499258                 1         0.079900          6  187.937241   \n",
       "17786    18.342723                 1         0.033119          7  106.688519   \n",
       "17787    15.600000                 1         0.066830         11  185.592400   \n",
       "17788    12.857648                 1         0.032470          5  148.939200   \n",
       "\n",
       "       Outlet_Establishment_Year  Outlet_Size  Outlet_Location_Type  \\\n",
       "0                           2004            2                     1   \n",
       "1                           1985            1                     2   \n",
       "2                           2002            1                     1   \n",
       "3                           1997            2                     0   \n",
       "4                           1999            1                     0   \n",
       "...                          ...          ...                   ...   \n",
       "17784                       1985            2                     0   \n",
       "17785                       2002            1                     1   \n",
       "17786                       2002            1                     1   \n",
       "17787                       1999            1                     0   \n",
       "17788                       1985            1                     2   \n",
       "\n",
       "       Outlet_Type  Item_Outlet_Sales  \n",
       "0                1        2045.359616  \n",
       "1                3        2291.019932  \n",
       "2                1        1444.766236  \n",
       "3                1        1137.186400  \n",
       "4                1        1090.590364  \n",
       "...            ...                ...  \n",
       "17784            0         319.577236  \n",
       "17785            1        2656.552542  \n",
       "17786            1        1393.502979  \n",
       "17787            1        3146.570800  \n",
       "17788            3        3728.480000  \n",
       "\n",
       "[17789 rows x 10 columns]"
      ]
     },
     "execution_count": 147,
     "metadata": {},
     "output_type": "execute_result"
    }
   ],
   "source": [
    "df['Item_Fat_Content']= le.fit_transform(df['Item_Fat_Content'])\n",
    "df['Item_Type']= le.fit_transform(df['Item_Type'])\n",
    "df['Outlet_Size']= le.fit_transform(df['Outlet_Size'])\n",
    "df['Outlet_Location_Type']= le.fit_transform(df['Outlet_Location_Type'])\n",
    "df['Outlet_Type']= le.fit_transform(df['Outlet_Type'])\n",
    "df"
   ]
  },
  {
   "cell_type": "markdown",
   "id": "fc1468dc",
   "metadata": {},
   "source": [
    "# Spliting Data into Train and Test"
   ]
  },
  {
   "cell_type": "code",
   "execution_count": 148,
   "id": "737bfca9",
   "metadata": {},
   "outputs": [],
   "source": [
    "X = df.drop('Item_Outlet_Sales', axis=1)\n",
    "y = df['Item_Outlet_Sales']"
   ]
  },
  {
   "cell_type": "code",
   "execution_count": 149,
   "id": "6c674582",
   "metadata": {},
   "outputs": [
    {
     "data": {
      "text/html": [
       "<div>\n",
       "<style scoped>\n",
       "    .dataframe tbody tr th:only-of-type {\n",
       "        vertical-align: middle;\n",
       "    }\n",
       "\n",
       "    .dataframe tbody tr th {\n",
       "        vertical-align: top;\n",
       "    }\n",
       "\n",
       "    .dataframe thead th {\n",
       "        text-align: right;\n",
       "    }\n",
       "</style>\n",
       "<table border=\"1\" class=\"dataframe\">\n",
       "  <thead>\n",
       "    <tr style=\"text-align: right;\">\n",
       "      <th></th>\n",
       "      <th>Item_Weight</th>\n",
       "      <th>Item_Fat_Content</th>\n",
       "      <th>Item_Visibility</th>\n",
       "      <th>Item_Type</th>\n",
       "      <th>Item_MRP</th>\n",
       "      <th>Outlet_Establishment_Year</th>\n",
       "      <th>Outlet_Size</th>\n",
       "      <th>Outlet_Location_Type</th>\n",
       "      <th>Outlet_Type</th>\n",
       "    </tr>\n",
       "  </thead>\n",
       "  <tbody>\n",
       "    <tr>\n",
       "      <th>0</th>\n",
       "      <td>14.502087</td>\n",
       "      <td>2</td>\n",
       "      <td>0.001573</td>\n",
       "      <td>6</td>\n",
       "      <td>169.620543</td>\n",
       "      <td>2004</td>\n",
       "      <td>2</td>\n",
       "      <td>1</td>\n",
       "      <td>1</td>\n",
       "    </tr>\n",
       "    <tr>\n",
       "      <th>1</th>\n",
       "      <td>12.857648</td>\n",
       "      <td>2</td>\n",
       "      <td>0.163214</td>\n",
       "      <td>6</td>\n",
       "      <td>62.430905</td>\n",
       "      <td>1985</td>\n",
       "      <td>1</td>\n",
       "      <td>2</td>\n",
       "      <td>3</td>\n",
       "    </tr>\n",
       "    <tr>\n",
       "      <th>2</th>\n",
       "      <td>12.604193</td>\n",
       "      <td>2</td>\n",
       "      <td>0.056235</td>\n",
       "      <td>5</td>\n",
       "      <td>105.108784</td>\n",
       "      <td>2002</td>\n",
       "      <td>1</td>\n",
       "      <td>1</td>\n",
       "      <td>1</td>\n",
       "    </tr>\n",
       "    <tr>\n",
       "      <th>3</th>\n",
       "      <td>11.600000</td>\n",
       "      <td>2</td>\n",
       "      <td>0.078930</td>\n",
       "      <td>5</td>\n",
       "      <td>79.927600</td>\n",
       "      <td>1997</td>\n",
       "      <td>2</td>\n",
       "      <td>0</td>\n",
       "      <td>1</td>\n",
       "    </tr>\n",
       "    <tr>\n",
       "      <th>4</th>\n",
       "      <td>12.622016</td>\n",
       "      <td>1</td>\n",
       "      <td>0.063577</td>\n",
       "      <td>10</td>\n",
       "      <td>51.826634</td>\n",
       "      <td>1999</td>\n",
       "      <td>1</td>\n",
       "      <td>0</td>\n",
       "      <td>1</td>\n",
       "    </tr>\n",
       "    <tr>\n",
       "      <th>...</th>\n",
       "      <td>...</td>\n",
       "      <td>...</td>\n",
       "      <td>...</td>\n",
       "      <td>...</td>\n",
       "      <td>...</td>\n",
       "      <td>...</td>\n",
       "      <td>...</td>\n",
       "      <td>...</td>\n",
       "      <td>...</td>\n",
       "    </tr>\n",
       "    <tr>\n",
       "      <th>17784</th>\n",
       "      <td>12.857648</td>\n",
       "      <td>1</td>\n",
       "      <td>0.149739</td>\n",
       "      <td>0</td>\n",
       "      <td>107.118585</td>\n",
       "      <td>1985</td>\n",
       "      <td>2</td>\n",
       "      <td>0</td>\n",
       "      <td>0</td>\n",
       "    </tr>\n",
       "    <tr>\n",
       "      <th>17785</th>\n",
       "      <td>11.499258</td>\n",
       "      <td>1</td>\n",
       "      <td>0.079900</td>\n",
       "      <td>6</td>\n",
       "      <td>187.937241</td>\n",
       "      <td>2002</td>\n",
       "      <td>1</td>\n",
       "      <td>1</td>\n",
       "      <td>1</td>\n",
       "    </tr>\n",
       "    <tr>\n",
       "      <th>17786</th>\n",
       "      <td>18.342723</td>\n",
       "      <td>1</td>\n",
       "      <td>0.033119</td>\n",
       "      <td>7</td>\n",
       "      <td>106.688519</td>\n",
       "      <td>2002</td>\n",
       "      <td>1</td>\n",
       "      <td>1</td>\n",
       "      <td>1</td>\n",
       "    </tr>\n",
       "    <tr>\n",
       "      <th>17787</th>\n",
       "      <td>15.600000</td>\n",
       "      <td>1</td>\n",
       "      <td>0.066830</td>\n",
       "      <td>11</td>\n",
       "      <td>185.592400</td>\n",
       "      <td>1999</td>\n",
       "      <td>1</td>\n",
       "      <td>0</td>\n",
       "      <td>1</td>\n",
       "    </tr>\n",
       "    <tr>\n",
       "      <th>17788</th>\n",
       "      <td>12.857648</td>\n",
       "      <td>1</td>\n",
       "      <td>0.032470</td>\n",
       "      <td>5</td>\n",
       "      <td>148.939200</td>\n",
       "      <td>1985</td>\n",
       "      <td>1</td>\n",
       "      <td>2</td>\n",
       "      <td>3</td>\n",
       "    </tr>\n",
       "  </tbody>\n",
       "</table>\n",
       "<p>17789 rows × 9 columns</p>\n",
       "</div>"
      ],
      "text/plain": [
       "       Item_Weight  Item_Fat_Content  Item_Visibility  Item_Type    Item_MRP  \\\n",
       "0        14.502087                 2         0.001573          6  169.620543   \n",
       "1        12.857648                 2         0.163214          6   62.430905   \n",
       "2        12.604193                 2         0.056235          5  105.108784   \n",
       "3        11.600000                 2         0.078930          5   79.927600   \n",
       "4        12.622016                 1         0.063577         10   51.826634   \n",
       "...            ...               ...              ...        ...         ...   \n",
       "17784    12.857648                 1         0.149739          0  107.118585   \n",
       "17785    11.499258                 1         0.079900          6  187.937241   \n",
       "17786    18.342723                 1         0.033119          7  106.688519   \n",
       "17787    15.600000                 1         0.066830         11  185.592400   \n",
       "17788    12.857648                 1         0.032470          5  148.939200   \n",
       "\n",
       "       Outlet_Establishment_Year  Outlet_Size  Outlet_Location_Type  \\\n",
       "0                           2004            2                     1   \n",
       "1                           1985            1                     2   \n",
       "2                           2002            1                     1   \n",
       "3                           1997            2                     0   \n",
       "4                           1999            1                     0   \n",
       "...                          ...          ...                   ...   \n",
       "17784                       1985            2                     0   \n",
       "17785                       2002            1                     1   \n",
       "17786                       2002            1                     1   \n",
       "17787                       1999            1                     0   \n",
       "17788                       1985            1                     2   \n",
       "\n",
       "       Outlet_Type  \n",
       "0                1  \n",
       "1                3  \n",
       "2                1  \n",
       "3                1  \n",
       "4                1  \n",
       "...            ...  \n",
       "17784            0  \n",
       "17785            1  \n",
       "17786            1  \n",
       "17787            1  \n",
       "17788            3  \n",
       "\n",
       "[17789 rows x 9 columns]"
      ]
     },
     "execution_count": 149,
     "metadata": {},
     "output_type": "execute_result"
    }
   ],
   "source": [
    "X"
   ]
  },
  {
   "cell_type": "code",
   "execution_count": 150,
   "id": "efaef2f5",
   "metadata": {
    "scrolled": true
   },
   "outputs": [
    {
     "data": {
      "text/plain": [
       "array([2, 1, 0, 4, 3])"
      ]
     },
     "execution_count": 150,
     "metadata": {},
     "output_type": "execute_result"
    }
   ],
   "source": [
    "df['Item_Fat_Content'].unique()"
   ]
  },
  {
   "cell_type": "code",
   "execution_count": 151,
   "id": "709d9fd4",
   "metadata": {},
   "outputs": [
    {
     "data": {
      "text/plain": [
       "array([ 6,  5, 10,  8,  4,  0,  9, 13, 14,  3, 15,  2,  1,  7, 12, 11])"
      ]
     },
     "execution_count": 151,
     "metadata": {},
     "output_type": "execute_result"
    }
   ],
   "source": [
    "df['Item_Type'].unique()"
   ]
  },
  {
   "cell_type": "code",
   "execution_count": 152,
   "id": "618193d2",
   "metadata": {},
   "outputs": [
    {
     "data": {
      "text/plain": [
       "array([2, 1, 0])"
      ]
     },
     "execution_count": 152,
     "metadata": {},
     "output_type": "execute_result"
    }
   ],
   "source": [
    "df['Outlet_Size'].unique()"
   ]
  },
  {
   "cell_type": "code",
   "execution_count": 153,
   "id": "0e23c626",
   "metadata": {},
   "outputs": [
    {
     "data": {
      "text/plain": [
       "array([1, 2, 0])"
      ]
     },
     "execution_count": 153,
     "metadata": {},
     "output_type": "execute_result"
    }
   ],
   "source": [
    "df['Outlet_Location_Type'].unique()"
   ]
  },
  {
   "cell_type": "code",
   "execution_count": 154,
   "id": "efeba54a",
   "metadata": {},
   "outputs": [
    {
     "data": {
      "text/plain": [
       "array([1, 3, 2, 0])"
      ]
     },
     "execution_count": 154,
     "metadata": {},
     "output_type": "execute_result"
    }
   ],
   "source": [
    "df['Outlet_Type'].unique()"
   ]
  },
  {
   "cell_type": "code",
   "execution_count": 155,
   "id": "6f7137cc",
   "metadata": {},
   "outputs": [],
   "source": [
    "from sklearn.model_selection import train_test_split\n",
    "X_train, X_test, y_train, y_test = train_test_split(X, y, test_size=0.3, random_state=42)"
   ]
  },
  {
   "cell_type": "code",
   "execution_count": 156,
   "id": "ef16a4bb",
   "metadata": {},
   "outputs": [
    {
     "data": {
      "text/plain": [
       "((12452, 9), (5337, 9))"
      ]
     },
     "execution_count": 156,
     "metadata": {},
     "output_type": "execute_result"
    }
   ],
   "source": [
    "X_train.shape, X_test.shape"
   ]
  },
  {
   "cell_type": "markdown",
   "id": "c47ead9d",
   "metadata": {},
   "source": [
    "# Model Building from Scratch"
   ]
  },
  {
   "cell_type": "code",
   "execution_count": 157,
   "id": "fac465ae",
   "metadata": {},
   "outputs": [],
   "source": [
    "import numpy as np\n",
    "\n",
    "class LinearRegressionFromScratch:\n",
    "    def __init__(self, fit_intercept=True):\n",
    "        self.fit_intercept = fit_intercept\n",
    "        self.coef_ = None\n",
    "        self.intercept_ = None\n",
    "\n",
    "    def fit(self, X, y):\n",
    "        if self.fit_intercept:\n",
    "            X = np.c_[np.ones(X.shape[0]), X]  # add a column of ones for the intercept term\n",
    "\n",
    "        # Calculate coefficients using the normal equation\n",
    "        self.coef_ = np.linalg.inv(X.T @ X) @ X.T @ y\n",
    "\n",
    "        if self.fit_intercept:\n",
    "            self.intercept_ = self.coef_[0]\n",
    "            self.coef_ = self.coef_[1:]\n",
    "\n",
    "    def predict(self, X):\n",
    "        if self.fit_intercept:\n",
    "            X = np.c_[np.ones(X.shape[0]), X]\n",
    "        return X @ np.concatenate([[self.intercept_], self.coef_])\n",
    "\n",
    "\n",
    "\n",
    "# Create and fit the linear regression model\n",
    "model = LinearRegressionFromScratch()\n",
    "model.fit(X_train, y_train)\n",
    "\n",
    "\n"
   ]
  },
  {
   "cell_type": "code",
   "execution_count": null,
   "id": "3f0f11f8",
   "metadata": {},
   "outputs": [],
   "source": []
  },
  {
   "cell_type": "code",
   "execution_count": 158,
   "id": "d0f89501",
   "metadata": {},
   "outputs": [],
   "source": [
    "y_pred = model.predict(X_test)"
   ]
  },
  {
   "cell_type": "code",
   "execution_count": 159,
   "id": "a56a7f14",
   "metadata": {
    "scrolled": true
   },
   "outputs": [
    {
     "data": {
      "text/html": [
       "<div>\n",
       "<style scoped>\n",
       "    .dataframe tbody tr th:only-of-type {\n",
       "        vertical-align: middle;\n",
       "    }\n",
       "\n",
       "    .dataframe tbody tr th {\n",
       "        vertical-align: top;\n",
       "    }\n",
       "\n",
       "    .dataframe thead th {\n",
       "        text-align: right;\n",
       "    }\n",
       "</style>\n",
       "<table border=\"1\" class=\"dataframe\">\n",
       "  <thead>\n",
       "    <tr style=\"text-align: right;\">\n",
       "      <th></th>\n",
       "      <th>Actual</th>\n",
       "      <th>Predict</th>\n",
       "    </tr>\n",
       "  </thead>\n",
       "  <tbody>\n",
       "    <tr>\n",
       "      <th>0</th>\n",
       "      <td>3038.711200</td>\n",
       "      <td>3183.265018</td>\n",
       "    </tr>\n",
       "    <tr>\n",
       "      <th>1</th>\n",
       "      <td>2406.871738</td>\n",
       "      <td>2247.016462</td>\n",
       "    </tr>\n",
       "    <tr>\n",
       "      <th>2</th>\n",
       "      <td>910.831342</td>\n",
       "      <td>1056.738722</td>\n",
       "    </tr>\n",
       "    <tr>\n",
       "      <th>3</th>\n",
       "      <td>50.607157</td>\n",
       "      <td>-190.179985</td>\n",
       "    </tr>\n",
       "    <tr>\n",
       "      <th>4</th>\n",
       "      <td>459.396768</td>\n",
       "      <td>304.093671</td>\n",
       "    </tr>\n",
       "  </tbody>\n",
       "</table>\n",
       "</div>"
      ],
      "text/plain": [
       "        Actual      Predict\n",
       "0  3038.711200  3183.265018\n",
       "1  2406.871738  2247.016462\n",
       "2   910.831342  1056.738722\n",
       "3    50.607157  -190.179985\n",
       "4   459.396768   304.093671"
      ]
     },
     "execution_count": 159,
     "metadata": {},
     "output_type": "execute_result"
    }
   ],
   "source": [
    "act_predict = pd.DataFrame({\n",
    "    'Actual':y_test.values.flatten(),\n",
    "    'Predict':y_pred.flatten()\n",
    "})\n",
    "\n",
    "act_predict.head(5)"
   ]
  },
  {
   "cell_type": "code",
   "execution_count": 160,
   "id": "b722627d",
   "metadata": {
    "scrolled": false
   },
   "outputs": [
    {
     "data": {
      "text/plain": [
       "<Axes: >"
      ]
     },
     "execution_count": 160,
     "metadata": {},
     "output_type": "execute_result"
    },
    {
     "data": {
      "image/png": "[encoded data removed]",
      "text/plain": [
       "<Figure size 640x480 with 1 Axes>"
      ]
     },
     "metadata": {},
     "output_type": "display_data"
    }
   ],
   "source": [
    "act_predict.sample(10).plot(kind='bar')"
   ]
  },
  {
   "cell_type": "code",
   "execution_count": 161,
   "id": "d8395d8a",
   "metadata": {
    "scrolled": false
   },
   "outputs": [
    {
     "data": {
      "text/plain": [
       "<Axes: >"
      ]
     },
     "execution_count": 161,
     "metadata": {},
     "output_type": "execute_result"
    },
    {
     "data": {
      "image/png": "[encoded data removed]",
      "text/plain": [
       "<Figure size 640x480 with 1 Axes>"
      ]
     },
     "metadata": {},
     "output_type": "display_data"
    }
   ],
   "source": [
    "act_predict.plot(kind='line')"
   ]
  },
  {
   "cell_type": "code",
   "execution_count": 162,
   "id": "8a793aa2",
   "metadata": {},
   "outputs": [
    {
     "data": {
      "image/png": "[encoded data removed]",
      "text/plain": [
       "<Figure size 640x480 with 1 Axes>"
      ]
     },
     "metadata": {},
     "output_type": "display_data"
    }
   ],
   "source": [
    "ct_predict = pd.DataFrame({\n",
    "    'Actual': y_test.values.flatten(),\n",
    "    'Predict': y_pred.flatten()\n",
    "})\n",
    "\n",
    "# Calculate residuals\n",
    "ct_predict['Residuals'] = ct_predict['Actual'] - ct_predict['Predict']\n",
    "\n",
    "# Residual plot\n",
    "sns.scatterplot(x='Predict', y='Residuals', data=ct_predict)\n",
    "\n",
    "# Adding a horizontal line at y=0 for reference\n",
    "plt.axhline(y=0, color='r', linestyle='-')\n",
    "\n",
    "# Adding labels and title\n",
    "plt.xlabel('Predicted')\n",
    "plt.ylabel('Residuals')\n",
    "plt.title('Residual Plot')\n",
    "\n",
    "# Show plot\n",
    "plt.show()"
   ]
  },
  {
   "cell_type": "code",
   "execution_count": 180,
   "id": "235d3c79",
   "metadata": {},
   "outputs": [],
   "source": [
    "y_pred_train = model.predict(X_train)"
   ]
  },
  {
   "cell_type": "code",
   "execution_count": 181,
   "id": "d2e943dd",
   "metadata": {
    "scrolled": true
   },
   "outputs": [
    {
     "name": "stdout",
     "output_type": "stream",
     "text": [
      "R-squared score for training set: 0.8427988003269431\n",
      "R-squared score for testing set: 0.8374664361088012\n"
     ]
    }
   ],
   "source": [
    "from sklearn.metrics import r2_score\n",
    "\n",
    "# Calculate R-squared score for training set\n",
    "r_squared_train = r2_score(y_train, y_pred_train)\n",
    "\n",
    "# Calculate R-squared score for testing set\n",
    "r_squared_test = r2_score(y_test, y_pred)\n",
    "\n",
    "# Print the R-squared scores\n",
    "print(f\"R-squared score for training set: {r_squared_train}\")\n",
    "print(f\"R-squared score for testing set: {r_squared_test}\")"
   ]
  },
  {
   "cell_type": "code",
   "execution_count": 182,
   "id": "1395ad71",
   "metadata": {},
   "outputs": [
    {
     "name": "stdout",
     "output_type": "stream",
     "text": [
      "Mean Absolute Error (MAE) for training set: 269.1000267584368\n",
      "Mean Absolute Error (MAE) for testing set: 274.67541370981496\n"
     ]
    }
   ],
   "source": [
    "from sklearn.metrics import mean_absolute_error\n",
    "\n",
    "# Assuming y_pred_train is the predicted values for the training set and y_pred_test is the predicted values for the testing set\n",
    "\n",
    "# Calculate MAE for training set\n",
    "mae_train = mean_absolute_error(y_train, y_pred_train)\n",
    "\n",
    "# Calculate MAE for testing set\n",
    "mae_test = mean_absolute_error(y_test, y_pred)\n",
    "\n",
    "# Print the MAE\n",
    "print(f\"Mean Absolute Error (MAE) for training set: {mae_train}\")\n",
    "print(f\"Mean Absolute Error (MAE) for testing set: {mae_test}\")"
   ]
  },
  {
   "cell_type": "code",
   "execution_count": 184,
   "id": "142df7d5",
   "metadata": {},
   "outputs": [
    {
     "name": "stdout",
     "output_type": "stream",
     "text": [
      "RMSE for training set: 489.7751014427193\n",
      "RMSE for testing set: 507.7091489429405\n"
     ]
    }
   ],
   "source": [
    "from sklearn.metrics import mean_squared_error\n",
    "import numpy as np\n",
    "\n",
    "# Calculate Mean Squared Error (MSE) for training set\n",
    "mse_train = mean_squared_error(y_train, y_pred_train)\n",
    "\n",
    "# Calculate Mean Squared Error (MSE) for testing set\n",
    "mse_test = mean_squared_error(y_test, y_pred)\n",
    "\n",
    "# Calculate RMSE for training set\n",
    "rmse_train = np.sqrt(mse_train)\n",
    "\n",
    "# Calculate RMSE for testing set\n",
    "rmse_test = np.sqrt(mse_test)\n",
    "\n",
    "# Print the RMSE\n",
    "print(f\"RMSE for training set: {rmse_train}\")\n",
    "print(f\"RMSE for testing set: {rmse_test}\")"
   ]
  },
  {
   "cell_type": "code",
   "execution_count": 185,
   "id": "c906c7f4",
   "metadata": {},
   "outputs": [
    {
     "name": "stdout",
     "output_type": "stream",
     "text": [
      "Median Absolute Deviation (MAD) for training set: 158.57299089469916\n",
      "Median Absolute Deviation (MAD) for testing set: 158.10193670031003\n"
     ]
    }
   ],
   "source": [
    "from sklearn.metrics import median_absolute_error\n",
    "\n",
    "# Calculate Median Absolute Deviation (MAD) for training set\n",
    "mad_train = median_absolute_error(y_train, y_pred_train)\n",
    "\n",
    "# Calculate Median Absolute Deviation (MAD) for testing set\n",
    "mad_test = median_absolute_error(y_test, y_pred)\n",
    "\n",
    "# Print the MAD\n",
    "print(f\"Median Absolute Deviation (MAD) for training set: {mad_train}\")\n",
    "print(f\"Median Absolute Deviation (MAD) for testing set: {mad_test}\")"
   ]
  },
  {
   "cell_type": "markdown",
   "id": "a7fcae8d",
   "metadata": {},
   "source": [
    "#HYPERPARAMETER TUNING"
   ]
  },
  {
   "cell_type": "code",
   "execution_count": 109,
   "id": "b2f503c3",
   "metadata": {},
   "outputs": [
    {
     "name": "stdout",
     "output_type": "stream",
     "text": [
      "Best: 0.842 using {'fit_intercept': False}\n",
      "0.842 (0.005) with: {'fit_intercept': True}\n",
      "0.842 (0.005) with: {'fit_intercept': False}\n"
     ]
    }
   ],
   "source": [
    "from sklearn.model_selection import GridSearchCV\n",
    "from sklearn.linear_model import LinearRegression\n",
    "\n",
    "# Define model and parameters\n",
    "model = LinearRegression()\n",
    "param_grid = {\n",
    "    'fit_intercept': [True, False]\n",
    "}\n",
    "\n",
    "# Define grid search\n",
    "grid_search_lr = GridSearchCV(estimator=model, param_grid=param_grid, n_jobs=-1,\n",
    "                              scoring='r2', cv=2)\n",
    "\n",
    "grid_search_lr.fit(X_train, y_train)\n",
    "\n",
    "# Summarize results\n",
    "print(f\"Best: {grid_search_lr.best_score_:.3f} using {grid_search_lr.best_params_}\")\n",
    "means = grid_search_lr.cv_results_['mean_test_score']\n",
    "stds = grid_search_lr.cv_results_['std_test_score']\n",
    "params = grid_search_lr.cv_results_['params']\n",
    "\n",
    "for mean, stdev, param in zip(means, stds, params):\n",
    "    print(f\"{mean:.3f} ({stdev:.3f}) with: {param}\")\n"
   ]
  },
  {
   "cell_type": "code",
   "execution_count": 110,
   "id": "9b092612",
   "metadata": {},
   "outputs": [
    {
     "data": {
      "text/plain": [
       "{'fit_intercept': False}"
      ]
     },
     "execution_count": 110,
     "metadata": {},
     "output_type": "execute_result"
    }
   ],
   "source": [
    "grid_search_lr.best_params_"
   ]
  },
  {
   "cell_type": "code",
   "execution_count": 111,
   "id": "26bc506b",
   "metadata": {},
   "outputs": [
    {
     "data": {
      "text/plain": [
       "0.8422340374928776"
      ]
     },
     "execution_count": 111,
     "metadata": {},
     "output_type": "execute_result"
    }
   ],
   "source": [
    "grid_search_lr.best_score_"
   ]
  },
  {
   "cell_type": "code",
   "execution_count": null,
   "id": "5d9f8ad3",
   "metadata": {},
   "outputs": [],
   "source": []
  },
  {
   "cell_type": "markdown",
   "id": "6b732707",
   "metadata": {},
   "source": [
    "# Save Model"
   ]
  },
  {
   "cell_type": "code",
   "execution_count": null,
   "id": "ef5c1ed0",
   "metadata": {},
   "outputs": [],
   "source": []
  },
  {
   "cell_type": "code",
   "execution_count": 123,
   "id": "325ea4a9",
   "metadata": {},
   "outputs": [],
   "source": [
    "import joblib"
   ]
  },
  {
   "cell_type": "code",
   "execution_count": 124,
   "id": "27d2d885",
   "metadata": {},
   "outputs": [],
   "source": [
    "import pickle"
   ]
  },
  {
   "cell_type": "code",
   "execution_count": 125,
   "id": "ce9dd312",
   "metadata": {},
   "outputs": [
    {
     "data": {
      "text/plain": [
       "['C:\\\\Users\\\\Milan\\\\Desktop\\\\PROJECT FINAL YEAR\\\\model\\\\sc.sav']"
      ]
     },
     "execution_count": 125,
     "metadata": {},
     "output_type": "execute_result"
    }
   ],
   "source": [
    "joblib.dump(model,r'C:\\Users\\Milan\\Desktop\\PROJECT FINAL YEAR\\model\\sc.sav')"
   ]
  },
  {
   "cell_type": "code",
   "execution_count": 126,
   "id": "4fd1e3c3",
   "metadata": {},
   "outputs": [
    {
     "data": {
      "text/plain": [
       "['C:\\\\Users\\\\Milan\\\\Desktop\\\\PROJECT FINAL YEAR\\\\model\\\\Lableencod.sav']"
      ]
     },
     "execution_count": 126,
     "metadata": {},
     "output_type": "execute_result"
    }
   ],
   "source": [
    "joblib.dump(le,r'C:\\Users\\Milan\\Desktop\\PROJECT FINAL YEAR\\model\\Lableencod.sav')"
   ]
  },
  {
   "cell_type": "code",
   "execution_count": 127,
   "id": "21b3315a",
   "metadata": {},
   "outputs": [],
   "source": [
    "models = joblib.load(r'C:\\Users\\Milan\\Desktop\\PROJECT FINAL YEAR\\model\\sc.sav')"
   ]
  },
  {
   "cell_type": "code",
   "execution_count": null,
   "id": "3b529a06",
   "metadata": {},
   "outputs": [],
   "source": [
    " "
   ]
  }
 ],
 "metadata": {
  "kernelspec": {
   "display_name": "Python 3 (ipykernel)",
   "language": "python",
   "name": "python3"
  },
  "language_info": {
   "codemirror_mode": {
    "name": "ipython",
    "version": 3
   },
   "file_extension": ".py",
   "mimetype": "text/x-python",
   "name": "python",
   "nbconvert_exporter": "python",
   "pygments_lexer": "ipython3",
   "version": "3.10.5"
  }
 },
 "nbformat": 4,
 "nbformat_minor": 5
}
